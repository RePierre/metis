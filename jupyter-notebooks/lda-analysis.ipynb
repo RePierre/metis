{
 "cells": [
  {
   "cell_type": "code",
   "execution_count": null,
   "metadata": {
    "autoscroll": false,
    "collapsed": false,
    "ein.hycell": false,
    "ein.tags": "worksheet-0",
    "slideshow": {
     "slide_type": "-"
    }
   },
   "outputs": [],
   "source": [
    "import json\n",
    "import os\n",
    "import sys\n",
    "import logging\n",
    "\n",
    "from sklearn.feature_extraction.text import TfidfVectorizer, CountVectorizer\n",
    "from sklearn.decomposition import LatentDirichletAllocation\n",
    "\n",
    "logger = logging.getLogger('metis.lda-analysis')\n",
    "file_log_handler = logging.FileHandler('logfile.log')\n",
    "logger.addHandler(file_log_handler)\n",
    "stdout_log_handler = logging.StreamHandler(sys.stdout)\n",
    "logger.addHandler(stdout_log_handler)\n",
    "\n",
    "# nice output format\n",
    "formatter = logging.Formatter('%(asctime)s - %(name)s - %(levelname)s - %(message)s')\n",
    "file_log_handler.setFormatter(formatter)\n",
    "stdout_log_handler.setFormatter(formatter)\n",
    "\n",
    "logger.setLevel('DEBUG')\n",
    "\n",
    "def print_top_words(model, feature_names, n_top_words):\n",
    "    for topic_idx, topic in enumerate(model.components_):\n",
    "        message = \"Topic #%d: \" % topic_idx\n",
    "        message += \" \".join([feature_names[i]\n",
    "                             for i in topic.argsort()[:-n_top_words - 1:-1]])\n",
    "        logger.info(message)"
   ]
  },
  {
   "cell_type": "code",
   "execution_count": null,
   "metadata": {
    "autoscroll": false,
    "collapsed": false,
    "ein.hycell": false,
    "ein.tags": "worksheet-0",
    "slideshow": {
     "slide_type": "-"
    }
   },
   "outputs": [],
   "source": [
    "def read_text(directory):\n",
    "    for root, dirs, files in os.walk(directory):\n",
    "        for file in files:\n",
    "            file_name = os.path.join(root, file)\n",
    "            try:\n",
    "                with open(file_name, 'rt') as f:\n",
    "                    data = json.load(f)\n",
    "                    text = []\n",
    "                    for section in data['body']:\n",
    "                        text.append(section['title'])\n",
    "                        text.append(section['text'])\n",
    "                    yield ''.join(text)\n",
    "            except json.decoder.JSONDecodeError:\n",
    "                continue\n",
    "            except TypeError:\n",
    "                continue"
   ]
  },
  {
   "cell_type": "code",
   "execution_count": null,
   "metadata": {
    "autoscroll": false,
    "collapsed": false,
    "ein.hycell": false,
    "ein.tags": "worksheet-0",
    "slideshow": {
     "slide_type": "-"
    }
   },
   "outputs": [],
   "source": [
    "path = input(\"Data directory:\")\n",
    "n_components = int(input('Number of topics [Enter for default=10]:') or '10')\n",
    "\n",
    "data_samples = list(read_text(path))\n",
    "n_samples = len(data_samples)\n",
    "print('Number of samples: {}'.format(n_samples))\n",
    "n_features = 1000\n",
    "n_top_words = 20\n",
    "\n",
    "logger.debug('Started calculating term frequencies.')\n",
    "tf_vectorizer = CountVectorizer(max_df=0.95, min_df=2,\n",
    "                                max_features=n_features,\n",
    "                                stop_words='english')\n",
    "tf = tf_vectorizer.fit_transform(data_samples)\n",
    "logger.debug('Finished calculating term frequencies.')\n",
    "\n",
    "logger.debug('Started LDA analysis.')\n",
    "lda = LatentDirichletAllocation(n_components=n_components, max_iter=5,\n",
    "                                learning_method='online',\n",
    "                                learning_offset=50.,\n",
    "                                random_state=0)\n",
    "lda.fit(tf)\n",
    "\n",
    "tf_feature_names = tf_vectorizer.get_feature_names()\n",
    "logger.debug('Finished LDA analysis.')\n",
    "\n",
    "print_top_words(lda, tf_feature_names, n_top_words)"
   ]
  }
 ],
 "metadata": {
  "kernelspec": {
   "display_name": "Python 3",
   "name": "python3"
  },
  "language_info": {
   "codemirror_mode": {
    "name": "ipython",
    "version": 3
   },
   "file_extension": ".py",
   "mimetype": "text/x-python",
   "name": "python",
   "nbconvert_exporter": "python",
   "pygments_lexer": "ipython3",
   "version": "3.6.5"
  },
  "name": "lda-analysis.ipynb"
 },
 "nbformat": 4,
 "nbformat_minor": 2
}

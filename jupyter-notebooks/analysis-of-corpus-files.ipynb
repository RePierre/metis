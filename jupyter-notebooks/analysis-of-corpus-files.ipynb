{
 "cells": [
  {
   "cell_type": "markdown",
   "metadata": {
    "ein.tags": "worksheet-0",
    "slideshow": {
     "slide_type": "-"
    }
   },
   "source": [
    "# Analysis of corpus files"
   ]
  },
  {
   "cell_type": "code",
   "execution_count": null,
   "metadata": {
    "autoscroll": false,
    "collapsed": false,
    "ein.hycell": false,
    "ein.tags": "worksheet-0",
    "slideshow": {
     "slide_type": "-"
    }
   },
   "outputs": [],
   "source": [
    "import os\n",
    "import json\n",
    "from matplotlib.pyplot import plt\n",
    "from sklearn.feature_extraction.text import TfidfVectorizer, CountVectorizer\n",
    "\n",
    "\n",
    "class Corpus:\n",
    "    def __init__(self, corpus_dir):\n",
    "        self._corpus_dir = corpus_dir\n",
    "\n",
    "    def __iter__(self):\n",
    "        for file_name in self._get_file_names():\n",
    "            try:\n",
    "                yield self._get_file_text(file_name)\n",
    "            except json.decoder.JSONDecodeError:\n",
    "                continue\n",
    "            except TypeError:\n",
    "                continue\n",
    "\n",
    "    def _get_file_names(self):\n",
    "        for root, dirs, files in os.walk(self._corpus_dir):\n",
    "            for f in files:\n",
    "                yield os.path.join(root, f)\n",
    "\n",
    "    def _get_file_text(self, file_name):\n",
    "        text = []\n",
    "        with open(file_name, 'rt') as f:\n",
    "            data = json.load(f)\n",
    "            for section in data['body']:\n",
    "                text.append(section['title'])\n",
    "                text.append(section['text'])\n",
    "            return '\\n'.join(text)\n",
    "\n",
    "\n",
    "corpus_dir = input('Corpus directory:')\n"
   ]
  },
  {
   "cell_type": "markdown",
   "metadata": {
    "ein.tags": "worksheet-0",
    "slideshow": {
     "slide_type": "-"
    }
   },
   "source": [
    "## Truncated Singular Value Decomposition on Bag of Words"
   ]
  },
  {
   "cell_type": "code",
   "execution_count": null,
   "metadata": {
    "autoscroll": false,
    "collapsed": false,
    "ein.hycell": false,
    "ein.tags": "worksheet-0",
    "slideshow": {
     "slide_type": "-"
    }
   },
   "outputs": [],
   "source": [
    "from sklearn.decomposition import TruncatedSVD\n",
    "\n",
    "corpus = Corpus(corpus_dir)\n",
    "\n",
    "count_vectorizer = CountVectorizer(stop_words='english')\n",
    "bow = count_vectorizer.fit_transform(corpus)\n",
    "print(bow.shape)\n",
    "t_svd = TruncatedSVD()\n",
    "t_svd.fit(bow)\n",
    "bow = t_svd.transform(bow)\n",
    "print(bow.shape)\n"
   ]
  }
 ],
 "metadata": {
  "kernelspec": {
   "display_name": "Python 3",
   "name": "python3"
  },
  "name": "analysis-of-corpus-files.ipynb"
 },
 "nbformat": 4,
 "nbformat_minor": 2
}
